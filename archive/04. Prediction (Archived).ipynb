{
 "cells": [
  {
   "cell_type": "code",
   "execution_count": 83,
   "id": "54505882",
   "metadata": {},
   "outputs": [
    {
     "name": "stdout",
     "output_type": "stream",
     "text": [
      "Requirement already satisfied: haversine in c:\\users\\elija\\anaconda3\\lib\\site-packages (2.7.0)\n"
     ]
    }
   ],
   "source": [
    "!pip install haversine\n",
    "\n",
    "import haversine as hs\n",
    "import pickle\n",
    "import numpy as np\n",
    "import requests\n",
    "import json\n",
    "import pandas as pd\n",
    "\n",
    "from numpy import asarray"
   ]
  },
  {
   "cell_type": "code",
   "execution_count": 75,
   "id": "ef33e86e",
   "metadata": {},
   "outputs": [],
   "source": [
    "# importing station df\n",
    "url = \"station_df.csv\"\n",
    "station_df = pd.read_csv(url)\n",
    "\n",
    "# importing mall df\n",
    "url = \"Mall_df.csv\"\n",
    "mall_df = pd.read_csv(url)"
   ]
  },
  {
   "cell_type": "code",
   "execution_count": 102,
   "id": "f91fa980",
   "metadata": {},
   "outputs": [
    {
     "name": "stdout",
     "output_type": "stream",
     "text": [
      "input address here:680 WOODLANDS AVE 6\n",
      "input remaining months here:937\n",
      "HDB Flat storey here:8\n",
      "(1.43963261801972, 103.802121646793)\n"
     ]
    }
   ],
   "source": [
    "# input address and extracting coordinates data and sector_code from onemap api\n",
    "\n",
    "address = input(\"input address here:\")\n",
    "remaining_months = int(input(\"input remaining months here:\"))\n",
    "storey = int(input(\"HDB Flat storey here:\"))\n",
    "\n",
    "\n",
    "url = \"https://www.onemap.gov.sg/api/common/elastic/search?searchVal=\"+address+\"&returnGeom=Y&getAddrDetails=Y&pageNum=1\"\n",
    "\n",
    "response = requests.request(\"GET\", url)\n",
    "\n",
    "query = json.loads(response.text)\n",
    "results = query[\"results\"]\n",
    "latitude = results[0][\"LATITUDE\"]\n",
    "longitude = results[0][\"LONGITUDE\"]\n",
    "sector_code = results[0][\"POSTAL\"][:2]\n",
    "\n",
    "address_coordinate = (float(latitude), float(longitude))\n",
    "print(address_coordinate)\n",
    "\n",
    "# print(latitude)\n",
    "# print(longitude)\n",
    "# print(sector_code)\n"
   ]
  },
  {
   "cell_type": "code",
   "execution_count": 103,
   "id": "557c6c53",
   "metadata": {},
   "outputs": [
    {
     "name": "stdout",
     "output_type": "stream",
     "text": [
      "0.16464640099314404\n",
      "18.161083833119896\n",
      "0.10872986014273653\n"
     ]
    }
   ],
   "source": [
    "# nearest MRT distance\n",
    "\n",
    "stationLatitudeList = list(station_df['latitude'])\n",
    "stationLongitudeList = list(station_df['longitude'])\n",
    "stationList = list(station_df['station'])\n",
    "\n",
    "def nearestMRT(coordinate):\n",
    "    min = 99999999\n",
    "    station = \"\"\n",
    "    for i, b in enumerate(stationLatitudeList):\n",
    "        distance = hs.haversine(coordinate, (float(stationLatitudeList[i]), float(stationLongitudeList[i])))\n",
    "        if (min > distance):\n",
    "            min = distance\n",
    "            station = stationList[i]\n",
    "    return min\n",
    "\n",
    "nearest_station_distance = nearestMRT(address_coordinate)\n",
    "print(nearest_station_distance)\n",
    "\n",
    "# distance from CBD\n",
    "distance_from_CBD = hs.haversine(address_coordinate, (1.28393326234538, 103.851463066212))\n",
    "print(distance_from_CBD)\n",
    "\n",
    "# nearest Mall distance\n",
    "mallLatitudeList = list(mall_df['latitude'])\n",
    "mallLongitudeList = list(mall_df['longitude'])\n",
    "mallList = list(mall_df['mall'])\n",
    "\n",
    "def nearestMall(coordinate):\n",
    "    min = 99999999\n",
    "    mall = \"\"\n",
    "    for i, b in enumerate(mallList):\n",
    "        distance = hs.haversine(coordinate, (float(mallLatitudeList[i]), float(mallLongitudeList[i])))\n",
    "        if (min > distance):\n",
    "            min = distance\n",
    "            mall = mallList[i]\n",
    "    return min\n",
    "\n",
    "nearest_mall_distance = nearestMall(address_coordinate)\n",
    "print(nearest_mall_distance)"
   ]
  },
  {
   "cell_type": "code",
   "execution_count": 104,
   "id": "9ddde24f",
   "metadata": {},
   "outputs": [
    {
     "name": "stdout",
     "output_type": "stream",
     "text": [
      "cluster4\n"
     ]
    }
   ],
   "source": [
    "# extracting cluster coordinates data from json to compare\n",
    "\n",
    "with open(\"cluster_coordinates.json\", \"r\") as infile:\n",
    "    data = json.load(infile)\n",
    "\n",
    "cluster_json = json.loads(data)\n",
    "sector_cluster_data = cluster_json[str(sector_code)]\n",
    "\n",
    "target_coordinate = [float(latitude), float(longitude)]\n",
    "\n",
    "# find the closest cluster\n",
    "closest_cluster = None\n",
    "min_distance = float('inf')\n",
    "\n",
    "for cluster_name, cluster_coordinates in sector_cluster_data.items():\n",
    "    cluster_x = float(cluster_coordinates[0])\n",
    "    cluster_y = float(cluster_coordinates[1])\n",
    "    distance = ((target_coordinate[0] - cluster_x) ** 2 + (target_coordinate[1] - cluster_y) ** 2) ** 0.5\n",
    "    \n",
    "    if distance < min_distance:\n",
    "        min_distance = distance\n",
    "        closest_cluster = cluster_name\n",
    "\n",
    "print(closest_cluster)\n",
    "    \n"
   ]
  },
  {
   "cell_type": "code",
   "execution_count": 105,
   "id": "5365376d",
   "metadata": {},
   "outputs": [],
   "source": [
    "# open the correct pickle file for XGBoost algorithm\n",
    "\n",
    "cluster_num = closest_cluster.split(\"cluster\")[1]\n",
    "\n",
    "pickle_file_name = \"sector_code_\" + sector_code + \"_cluster_\" + cluster_num + \"_model.pkl\"\n",
    "\n",
    "with open(pickle_file_name, 'rb') as f:\n",
    "    loaded_model = pickle.load(f)\n"
   ]
  },
  {
   "cell_type": "code",
   "execution_count": 106,
   "id": "28acef8c",
   "metadata": {},
   "outputs": [
    {
     "name": "stdout",
     "output_type": "stream",
     "text": [
      "[4851.4424]\n"
     ]
    }
   ],
   "source": [
    "X_new = np.array([remaining_months, storey, nearest_station_distance, distance_from_CBD, nearest_mall_distance])\n",
    "X_new = X_new.reshape(1, -1)\n",
    "y_pred = loaded_model.predict(X_new)\n",
    "print(y_pred)"
   ]
  },
  {
   "cell_type": "code",
   "execution_count": null,
   "id": "3d267677",
   "metadata": {},
   "outputs": [],
   "source": []
  }
 ],
 "metadata": {
  "kernelspec": {
   "display_name": "Python 3 (ipykernel)",
   "language": "python",
   "name": "python3"
  },
  "language_info": {
   "codemirror_mode": {
    "name": "ipython",
    "version": 3
   },
   "file_extension": ".py",
   "mimetype": "text/x-python",
   "name": "python",
   "nbconvert_exporter": "python",
   "pygments_lexer": "ipython3",
   "version": "3.9.12"
  }
 },
 "nbformat": 4,
 "nbformat_minor": 5
}
