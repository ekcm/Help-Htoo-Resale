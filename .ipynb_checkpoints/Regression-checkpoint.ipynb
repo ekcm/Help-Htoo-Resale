{
 "cells": [
  {
   "cell_type": "markdown",
   "id": "a3437781",
   "metadata": {},
   "source": [
    "Evaluating Regression methods:\n",
    "    - Linear Regression\n",
    "    - XGBoost Regressor\n",
    "    - Random Forest Regressor\n",
    "    \n",
    "To ensure model isn't overfitted, we need to perform cross-validation -> average R-Squared isn't too far away from previous R-squared"
   ]
  },
  {
   "cell_type": "code",
   "execution_count": 53,
   "id": "a739db96",
   "metadata": {},
   "outputs": [],
   "source": [
    "# import relevant library\n",
    "import pandas as pd\n",
    "import seaborn as sns\n",
    "import numpy as np\n",
    "import matplotlib.pyplot as plt\n",
    "import matplotlib.ticker as ticker\n",
    "\n",
    "# Scikit-learn\n",
    "import sklearn\n",
    "from sklearn import metrics\n",
    "from sklearn.metrics import accuracy_score\n",
    "from sklearn.metrics import r2_score\n",
    "from sklearn.metrics import mean_squared_error, mean_absolute_error\n",
    "from sklearn import preprocessing\n",
    "from sklearn.model_selection import train_test_split\n",
    "from sklearn.linear_model import LinearRegression\n",
    "from sklearn.model_selection import cross_val_score\n",
    "from sklearn.model_selection import KFold\n",
    "from sklearn.model_selection import RepeatedKFold\n",
    "\n",
    "# statsmodel\n",
    "import statsmodels.api as sm\n",
    "from statsmodels.stats.outliers_influence import variance_inflation_factor as vif\n",
    "\n",
    "# check xgboost version\n",
    "import xgboost as xg\n",
    "\n",
    "# import randomForest\n",
    "from sklearn.ensemble import RandomForestRegressor\n",
    "\n",
    "# import K-neighbors\n",
    "from sklearn.neighbors import KNeighborsRegressor"
   ]
  },
  {
   "cell_type": "code",
   "execution_count": 19,
   "id": "9438d58a",
   "metadata": {},
   "outputs": [],
   "source": [
    "# read csv file\n",
    "url = \"transformed_cluster_56.csv\"\n",
    "Clustering_HDB_sector_code_56_df = pd.read_csv(url)"
   ]
  },
  {
   "cell_type": "markdown",
   "id": "d7b166c7",
   "metadata": {},
   "source": [
    "#### Features to use:\n",
    "    - remaining_months\n",
    "    - storey_avg\n",
    "    - nearest_station_distance\n",
    "    - distance_from_CBD\n",
    "    - nearest_mall_distance"
   ]
  },
  {
   "cell_type": "code",
   "execution_count": 20,
   "id": "c4c41a53",
   "metadata": {},
   "outputs": [
    {
     "data": {
      "text/html": [
       "<div>\n",
       "<style scoped>\n",
       "    .dataframe tbody tr th:only-of-type {\n",
       "        vertical-align: middle;\n",
       "    }\n",
       "\n",
       "    .dataframe tbody tr th {\n",
       "        vertical-align: top;\n",
       "    }\n",
       "\n",
       "    .dataframe thead th {\n",
       "        text-align: right;\n",
       "    }\n",
       "</style>\n",
       "<table border=\"1\" class=\"dataframe\">\n",
       "  <thead>\n",
       "    <tr style=\"text-align: right;\">\n",
       "      <th></th>\n",
       "      <th>month</th>\n",
       "      <th>town</th>\n",
       "      <th>flat_type</th>\n",
       "      <th>block</th>\n",
       "      <th>street_name</th>\n",
       "      <th>storey_range</th>\n",
       "      <th>floor_area_sqm</th>\n",
       "      <th>flat_model</th>\n",
       "      <th>lease_commence_date</th>\n",
       "      <th>remaining_lease</th>\n",
       "      <th>...</th>\n",
       "      <th>sector_code</th>\n",
       "      <th>distance_from_CBD</th>\n",
       "      <th>nearest_station</th>\n",
       "      <th>nearest_station_distance</th>\n",
       "      <th>nearest_mall</th>\n",
       "      <th>nearest_mall_distance</th>\n",
       "      <th>adjusted_price_per_sqm</th>\n",
       "      <th>storey_avg</th>\n",
       "      <th>remaining_months</th>\n",
       "      <th>KMeanscluster</th>\n",
       "    </tr>\n",
       "  </thead>\n",
       "  <tbody>\n",
       "    <tr>\n",
       "      <th>0</th>\n",
       "      <td>2017-01</td>\n",
       "      <td>ANG MO KIO</td>\n",
       "      <td>2 ROOM</td>\n",
       "      <td>406</td>\n",
       "      <td>ANG MO KIO AVE 10</td>\n",
       "      <td>10 TO 12</td>\n",
       "      <td>44.0</td>\n",
       "      <td>Improved</td>\n",
       "      <td>1979</td>\n",
       "      <td>61 years 04 months</td>\n",
       "      <td>...</td>\n",
       "      <td>56</td>\n",
       "      <td>8.685298</td>\n",
       "      <td>Ang Mo Kio</td>\n",
       "      <td>0.960938</td>\n",
       "      <td>AMK Hub</td>\n",
       "      <td>1.017286</td>\n",
       "      <td>6619.458211</td>\n",
       "      <td>11</td>\n",
       "      <td>736</td>\n",
       "      <td>4</td>\n",
       "    </tr>\n",
       "    <tr>\n",
       "      <th>1</th>\n",
       "      <td>2017-01</td>\n",
       "      <td>ANG MO KIO</td>\n",
       "      <td>3 ROOM</td>\n",
       "      <td>108</td>\n",
       "      <td>ANG MO KIO AVE 4</td>\n",
       "      <td>01 TO 03</td>\n",
       "      <td>67.0</td>\n",
       "      <td>New Generation</td>\n",
       "      <td>1978</td>\n",
       "      <td>60 years 07 months</td>\n",
       "      <td>...</td>\n",
       "      <td>56</td>\n",
       "      <td>9.789287</td>\n",
       "      <td>Mayflower</td>\n",
       "      <td>0.189871</td>\n",
       "      <td>Broadway Plaza</td>\n",
       "      <td>0.867983</td>\n",
       "      <td>4684.382419</td>\n",
       "      <td>2</td>\n",
       "      <td>727</td>\n",
       "      <td>3</td>\n",
       "    </tr>\n",
       "    <tr>\n",
       "      <th>2</th>\n",
       "      <td>2017-01</td>\n",
       "      <td>ANG MO KIO</td>\n",
       "      <td>3 ROOM</td>\n",
       "      <td>602</td>\n",
       "      <td>ANG MO KIO AVE 5</td>\n",
       "      <td>01 TO 03</td>\n",
       "      <td>67.0</td>\n",
       "      <td>New Generation</td>\n",
       "      <td>1980</td>\n",
       "      <td>62 years 05 months</td>\n",
       "      <td>...</td>\n",
       "      <td>56</td>\n",
       "      <td>10.908694</td>\n",
       "      <td>Lentor</td>\n",
       "      <td>0.535118</td>\n",
       "      <td>Broadway Plaza</td>\n",
       "      <td>1.528024</td>\n",
       "      <td>4909.232776</td>\n",
       "      <td>2</td>\n",
       "      <td>749</td>\n",
       "      <td>1</td>\n",
       "    </tr>\n",
       "    <tr>\n",
       "      <th>3</th>\n",
       "      <td>2017-01</td>\n",
       "      <td>ANG MO KIO</td>\n",
       "      <td>3 ROOM</td>\n",
       "      <td>465</td>\n",
       "      <td>ANG MO KIO AVE 10</td>\n",
       "      <td>04 TO 06</td>\n",
       "      <td>68.0</td>\n",
       "      <td>New Generation</td>\n",
       "      <td>1980</td>\n",
       "      <td>62 years 01 month</td>\n",
       "      <td>...</td>\n",
       "      <td>56</td>\n",
       "      <td>9.169984</td>\n",
       "      <td>Ang Mo Kio</td>\n",
       "      <td>0.932844</td>\n",
       "      <td>myVillage At Serangoon Garden</td>\n",
       "      <td>0.892900</td>\n",
       "      <td>4892.424109</td>\n",
       "      <td>5</td>\n",
       "      <td>745</td>\n",
       "      <td>4</td>\n",
       "    </tr>\n",
       "    <tr>\n",
       "      <th>4</th>\n",
       "      <td>2017-01</td>\n",
       "      <td>ANG MO KIO</td>\n",
       "      <td>3 ROOM</td>\n",
       "      <td>601</td>\n",
       "      <td>ANG MO KIO AVE 5</td>\n",
       "      <td>01 TO 03</td>\n",
       "      <td>67.0</td>\n",
       "      <td>New Generation</td>\n",
       "      <td>1980</td>\n",
       "      <td>62 years 05 months</td>\n",
       "      <td>...</td>\n",
       "      <td>56</td>\n",
       "      <td>10.949497</td>\n",
       "      <td>Lentor</td>\n",
       "      <td>0.501153</td>\n",
       "      <td>Broadway Plaza</td>\n",
       "      <td>1.571906</td>\n",
       "      <td>4965.445364</td>\n",
       "      <td>2</td>\n",
       "      <td>749</td>\n",
       "      <td>1</td>\n",
       "    </tr>\n",
       "    <tr>\n",
       "      <th>...</th>\n",
       "      <td>...</td>\n",
       "      <td>...</td>\n",
       "      <td>...</td>\n",
       "      <td>...</td>\n",
       "      <td>...</td>\n",
       "      <td>...</td>\n",
       "      <td>...</td>\n",
       "      <td>...</td>\n",
       "      <td>...</td>\n",
       "      <td>...</td>\n",
       "      <td>...</td>\n",
       "      <td>...</td>\n",
       "      <td>...</td>\n",
       "      <td>...</td>\n",
       "      <td>...</td>\n",
       "      <td>...</td>\n",
       "      <td>...</td>\n",
       "      <td>...</td>\n",
       "      <td>...</td>\n",
       "      <td>...</td>\n",
       "      <td>...</td>\n",
       "    </tr>\n",
       "    <tr>\n",
       "      <th>5925</th>\n",
       "      <td>2022-08</td>\n",
       "      <td>ANG MO KIO</td>\n",
       "      <td>EXECUTIVE</td>\n",
       "      <td>613</td>\n",
       "      <td>ANG MO KIO AVE 4</td>\n",
       "      <td>04 TO 06</td>\n",
       "      <td>149.0</td>\n",
       "      <td>Apartment</td>\n",
       "      <td>1996</td>\n",
       "      <td>72 years 10 months</td>\n",
       "      <td>...</td>\n",
       "      <td>56</td>\n",
       "      <td>10.597248</td>\n",
       "      <td>Yio Chu Kang</td>\n",
       "      <td>0.727962</td>\n",
       "      <td>Broadway Plaza</td>\n",
       "      <td>1.035896</td>\n",
       "      <td>6174.496644</td>\n",
       "      <td>5</td>\n",
       "      <td>874</td>\n",
       "      <td>1</td>\n",
       "    </tr>\n",
       "    <tr>\n",
       "      <th>5926</th>\n",
       "      <td>2022-10</td>\n",
       "      <td>ANG MO KIO</td>\n",
       "      <td>EXECUTIVE</td>\n",
       "      <td>614</td>\n",
       "      <td>ANG MO KIO AVE 4</td>\n",
       "      <td>07 TO 09</td>\n",
       "      <td>149.0</td>\n",
       "      <td>Apartment</td>\n",
       "      <td>1996</td>\n",
       "      <td>72 years 08 months</td>\n",
       "      <td>...</td>\n",
       "      <td>56</td>\n",
       "      <td>10.544589</td>\n",
       "      <td>Yio Chu Kang</td>\n",
       "      <td>0.763189</td>\n",
       "      <td>Broadway Plaza</td>\n",
       "      <td>1.004970</td>\n",
       "      <td>7382.550336</td>\n",
       "      <td>8</td>\n",
       "      <td>872</td>\n",
       "      <td>1</td>\n",
       "    </tr>\n",
       "    <tr>\n",
       "      <th>5927</th>\n",
       "      <td>2022-08</td>\n",
       "      <td>ANG MO KIO</td>\n",
       "      <td>EXECUTIVE</td>\n",
       "      <td>533</td>\n",
       "      <td>ANG MO KIO AVE 5</td>\n",
       "      <td>01 TO 03</td>\n",
       "      <td>149.0</td>\n",
       "      <td>Adjoined flat</td>\n",
       "      <td>1980</td>\n",
       "      <td>56 years 07 months</td>\n",
       "      <td>...</td>\n",
       "      <td>56</td>\n",
       "      <td>10.035255</td>\n",
       "      <td>Ang Mo Kio</td>\n",
       "      <td>0.658269</td>\n",
       "      <td>Jubilee Square</td>\n",
       "      <td>0.632316</td>\n",
       "      <td>5771.812081</td>\n",
       "      <td>2</td>\n",
       "      <td>679</td>\n",
       "      <td>2</td>\n",
       "    </tr>\n",
       "    <tr>\n",
       "      <th>5928</th>\n",
       "      <td>2022-04</td>\n",
       "      <td>ANG MO KIO</td>\n",
       "      <td>EXECUTIVE</td>\n",
       "      <td>504</td>\n",
       "      <td>ANG MO KIO AVE 8</td>\n",
       "      <td>07 TO 09</td>\n",
       "      <td>163.0</td>\n",
       "      <td>Adjoined flat</td>\n",
       "      <td>1980</td>\n",
       "      <td>57 years 05 months</td>\n",
       "      <td>...</td>\n",
       "      <td>56</td>\n",
       "      <td>10.110655</td>\n",
       "      <td>Ang Mo Kio</td>\n",
       "      <td>0.602717</td>\n",
       "      <td>Jubilee Square</td>\n",
       "      <td>0.360208</td>\n",
       "      <td>6064.880666</td>\n",
       "      <td>8</td>\n",
       "      <td>689</td>\n",
       "      <td>2</td>\n",
       "    </tr>\n",
       "    <tr>\n",
       "      <th>5929</th>\n",
       "      <td>2022-07</td>\n",
       "      <td>ANG MO KIO</td>\n",
       "      <td>EXECUTIVE</td>\n",
       "      <td>104A</td>\n",
       "      <td>ANG MO KIO ST 11</td>\n",
       "      <td>04 TO 06</td>\n",
       "      <td>146.0</td>\n",
       "      <td>Apartment</td>\n",
       "      <td>1996</td>\n",
       "      <td>72 years 10 months</td>\n",
       "      <td>...</td>\n",
       "      <td>56</td>\n",
       "      <td>9.874151</td>\n",
       "      <td>Mayflower</td>\n",
       "      <td>0.251824</td>\n",
       "      <td>Broadway Plaza</td>\n",
       "      <td>0.794439</td>\n",
       "      <td>7671.232877</td>\n",
       "      <td>5</td>\n",
       "      <td>874</td>\n",
       "      <td>3</td>\n",
       "    </tr>\n",
       "  </tbody>\n",
       "</table>\n",
       "<p>5930 rows × 33 columns</p>\n",
       "</div>"
      ],
      "text/plain": [
       "        month        town  flat_type block        street_name storey_range  \\\n",
       "0     2017-01  ANG MO KIO     2 ROOM   406  ANG MO KIO AVE 10     10 TO 12   \n",
       "1     2017-01  ANG MO KIO     3 ROOM   108   ANG MO KIO AVE 4     01 TO 03   \n",
       "2     2017-01  ANG MO KIO     3 ROOM   602   ANG MO KIO AVE 5     01 TO 03   \n",
       "3     2017-01  ANG MO KIO     3 ROOM   465  ANG MO KIO AVE 10     04 TO 06   \n",
       "4     2017-01  ANG MO KIO     3 ROOM   601   ANG MO KIO AVE 5     01 TO 03   \n",
       "...       ...         ...        ...   ...                ...          ...   \n",
       "5925  2022-08  ANG MO KIO  EXECUTIVE   613   ANG MO KIO AVE 4     04 TO 06   \n",
       "5926  2022-10  ANG MO KIO  EXECUTIVE   614   ANG MO KIO AVE 4     07 TO 09   \n",
       "5927  2022-08  ANG MO KIO  EXECUTIVE   533   ANG MO KIO AVE 5     01 TO 03   \n",
       "5928  2022-04  ANG MO KIO  EXECUTIVE   504   ANG MO KIO AVE 8     07 TO 09   \n",
       "5929  2022-07  ANG MO KIO  EXECUTIVE  104A   ANG MO KIO ST 11     04 TO 06   \n",
       "\n",
       "      floor_area_sqm      flat_model  lease_commence_date     remaining_lease  \\\n",
       "0               44.0        Improved                 1979  61 years 04 months   \n",
       "1               67.0  New Generation                 1978  60 years 07 months   \n",
       "2               67.0  New Generation                 1980  62 years 05 months   \n",
       "3               68.0  New Generation                 1980   62 years 01 month   \n",
       "4               67.0  New Generation                 1980  62 years 05 months   \n",
       "...              ...             ...                  ...                 ...   \n",
       "5925           149.0       Apartment                 1996  72 years 10 months   \n",
       "5926           149.0       Apartment                 1996  72 years 08 months   \n",
       "5927           149.0   Adjoined flat                 1980  56 years 07 months   \n",
       "5928           163.0   Adjoined flat                 1980  57 years 05 months   \n",
       "5929           146.0       Apartment                 1996  72 years 10 months   \n",
       "\n",
       "      ...  sector_code  distance_from_CBD  nearest_station  \\\n",
       "0     ...           56           8.685298       Ang Mo Kio   \n",
       "1     ...           56           9.789287        Mayflower   \n",
       "2     ...           56          10.908694           Lentor   \n",
       "3     ...           56           9.169984       Ang Mo Kio   \n",
       "4     ...           56          10.949497           Lentor   \n",
       "...   ...          ...                ...              ...   \n",
       "5925  ...           56          10.597248     Yio Chu Kang   \n",
       "5926  ...           56          10.544589     Yio Chu Kang   \n",
       "5927  ...           56          10.035255       Ang Mo Kio   \n",
       "5928  ...           56          10.110655       Ang Mo Kio   \n",
       "5929  ...           56           9.874151        Mayflower   \n",
       "\n",
       "      nearest_station_distance                   nearest_mall  \\\n",
       "0                     0.960938                        AMK Hub   \n",
       "1                     0.189871                 Broadway Plaza   \n",
       "2                     0.535118                 Broadway Plaza   \n",
       "3                     0.932844  myVillage At Serangoon Garden   \n",
       "4                     0.501153                 Broadway Plaza   \n",
       "...                        ...                            ...   \n",
       "5925                  0.727962                 Broadway Plaza   \n",
       "5926                  0.763189                 Broadway Plaza   \n",
       "5927                  0.658269                 Jubilee Square   \n",
       "5928                  0.602717                 Jubilee Square   \n",
       "5929                  0.251824                 Broadway Plaza   \n",
       "\n",
       "     nearest_mall_distance  adjusted_price_per_sqm  storey_avg  \\\n",
       "0                 1.017286             6619.458211          11   \n",
       "1                 0.867983             4684.382419           2   \n",
       "2                 1.528024             4909.232776           2   \n",
       "3                 0.892900             4892.424109           5   \n",
       "4                 1.571906             4965.445364           2   \n",
       "...                    ...                     ...         ...   \n",
       "5925              1.035896             6174.496644           5   \n",
       "5926              1.004970             7382.550336           8   \n",
       "5927              0.632316             5771.812081           2   \n",
       "5928              0.360208             6064.880666           8   \n",
       "5929              0.794439             7671.232877           5   \n",
       "\n",
       "     remaining_months  KMeanscluster  \n",
       "0                 736              4  \n",
       "1                 727              3  \n",
       "2                 749              1  \n",
       "3                 745              4  \n",
       "4                 749              1  \n",
       "...               ...            ...  \n",
       "5925              874              1  \n",
       "5926              872              1  \n",
       "5927              679              2  \n",
       "5928              689              2  \n",
       "5929              874              3  \n",
       "\n",
       "[5930 rows x 33 columns]"
      ]
     },
     "execution_count": 20,
     "metadata": {},
     "output_type": "execute_result"
    }
   ],
   "source": [
    "Clustering_HDB_sector_code_56_df"
   ]
  },
  {
   "cell_type": "code",
   "execution_count": 29,
   "id": "4e3a57f8",
   "metadata": {},
   "outputs": [],
   "source": [
    "Cluster0 = Clustering_HDB_sector_code_56_df[Clustering_HDB_sector_code_56_df['KMeanscluster'] == 0]\n",
    "Cluster1 = Clustering_HDB_sector_code_56_df[Clustering_HDB_sector_code_56_df['KMeanscluster'] == 1]\n",
    "Cluster2 = Clustering_HDB_sector_code_56_df[Clustering_HDB_sector_code_56_df['KMeanscluster'] == 2]\n",
    "Cluster3 = Clustering_HDB_sector_code_56_df[Clustering_HDB_sector_code_56_df['KMeanscluster'] == 3]\n",
    "Cluster4 = Clustering_HDB_sector_code_56_df[Clustering_HDB_sector_code_56_df['KMeanscluster'] == 4]\n"
   ]
  },
  {
   "cell_type": "markdown",
   "id": "85abb2fd",
   "metadata": {},
   "source": [
    "#### Checking for multicollinearity"
   ]
  },
  {
   "cell_type": "code",
   "execution_count": 21,
   "id": "af50191f",
   "metadata": {},
   "outputs": [
    {
     "name": "stdout",
     "output_type": "stream",
     "text": [
      "VIF for intercept : 451.01267616572073\n",
      "VIF for remaining_months :1.3179\n",
      "VIF for storey_avg :1.317\n",
      "VIF for nearest_station_distance :1.3076\n",
      "VIF for distance_from_CBD :1.3978\n",
      "VIF for nearest_mall_distance :1.3338\n"
     ]
    }
   ],
   "source": [
    "# checking for significance\n",
    "X = Clustering_HDB_sector_code_56_df[['remaining_months', 'storey_avg', 'nearest_station_distance', 'distance_from_CBD', 'nearest_mall_distance']]\n",
    "y = Clustering_HDB_sector_code_56_df['adjusted_price_per_sqm']\n",
    "\n",
    "# train_test split\n",
    "X_train, X_test, y_train, y_test = train_test_split(X, y, test_size=0.3)\n",
    "\n",
    "# This is needed to calculate VIF in the next step.\n",
    "X_train1 = sm.add_constant(X_train)\n",
    "# For each column (variable) in the above DataFrame\n",
    "for i in range(X_train1.shape[1]):\n",
    "    \n",
    "    # Calculate VIF for that variable\n",
    "    v = vif(X_train1.values, i)\n",
    "    \n",
    "    # First column is constant\n",
    "    if i == 0:\n",
    "        print(\"VIF for intercept :\", v)\n",
    "        \n",
    "    # All other columns contain predictor variables\n",
    "    else:\n",
    "        print(\"VIF for {} :{}\".format(X_train1.columns[i],round(v,4)))"
   ]
  },
  {
   "cell_type": "code",
   "execution_count": 22,
   "id": "d14ad638",
   "metadata": {},
   "outputs": [
    {
     "name": "stdout",
     "output_type": "stream",
     "text": [
      "Model errors :\n",
      "mean_squared_error :  236247.07739913694\n",
      "mean_absolute_error :  374.70844548093123\n",
      "model R² value :  0.873671216721844\n"
     ]
    }
   ],
   "source": [
    "# checking for significance\n",
    "X = Clustering_HDB_sector_code_56_df[['remaining_months', 'storey_avg', 'nearest_station_distance', 'distance_from_CBD', 'nearest_mall_distance']]\n",
    "y = Clustering_HDB_sector_code_56_df['adjusted_price_per_sqm']\n",
    "\n",
    "# train_test split\n",
    "X_train, X_test, y_train, y_test = train_test_split(X, y, test_size=0.3)\n",
    "\n",
    "# training model\n",
    "baseline_model = LinearRegression()\n",
    "\n",
    "# fitting the model\n",
    "baseline_model.fit(X_train, y_train)\n",
    "\n",
    "# making predictions\n",
    "predictions = baseline_model.predict(X_test)\n",
    "\n",
    "# model evaluation\n",
    "print('Model errors :')\n",
    "print('mean_squared_error : ', mean_squared_error(y_test, predictions))\n",
    "print('mean_absolute_error : ', mean_absolute_error(y_test, predictions))\n",
    "print('model R² value : ', sklearn.metrics.r2_score(y_test, predictions))"
   ]
  },
  {
   "cell_type": "markdown",
   "id": "1a0f5848",
   "metadata": {},
   "source": [
    "#### Linear Regression across entire sector code 56 has MAE of 374"
   ]
  },
  {
   "cell_type": "code",
   "execution_count": 33,
   "id": "35b1da62",
   "metadata": {},
   "outputs": [
    {
     "name": "stdout",
     "output_type": "stream",
     "text": [
      "Model errors :\n",
      "mean_squared_error :  291596.8051917944\n",
      "mean_absolute_error :  422.2549147390067\n",
      "model R² value :  0.8672714714049731\n"
     ]
    }
   ],
   "source": [
    "# checking for significance\n",
    "X = Cluster0[['remaining_months', 'storey_avg', 'nearest_station_distance', 'distance_from_CBD', 'nearest_mall_distance']]\n",
    "y = Cluster0['adjusted_price_per_sqm']\n",
    "\n",
    "# train_test split\n",
    "X_train, X_test, y_train, y_test = train_test_split(X, y, test_size=0.3)\n",
    "\n",
    "# training model\n",
    "baseline_model = LinearRegression()\n",
    "\n",
    "# fitting the model\n",
    "baseline_model.fit(X_train, y_train)\n",
    "\n",
    "# making predictions\n",
    "predictions = baseline_model.predict(X_test)\n",
    "\n",
    "# model evaluation\n",
    "print('Model errors :')\n",
    "print('mean_squared_error : ', mean_squared_error(y_test, predictions))\n",
    "print('mean_absolute_error : ', mean_absolute_error(y_test, predictions))\n",
    "print('model R² value : ', sklearn.metrics.r2_score(y_test, predictions))"
   ]
  },
  {
   "cell_type": "code",
   "execution_count": 34,
   "id": "c5b3ae5a",
   "metadata": {},
   "outputs": [
    {
     "name": "stdout",
     "output_type": "stream",
     "text": [
      "Model errors :\n",
      "mean_squared_error :  182225.88364948393\n",
      "mean_absolute_error :  339.4750364974232\n",
      "model R² value :  0.6709875908624479\n"
     ]
    }
   ],
   "source": [
    "# checking for significance\n",
    "X = Cluster1[['remaining_months', 'storey_avg', 'nearest_station_distance', 'distance_from_CBD', 'nearest_mall_distance']]\n",
    "y = Cluster1['adjusted_price_per_sqm']\n",
    "\n",
    "# train_test split\n",
    "X_train, X_test, y_train, y_test = train_test_split(X, y, test_size=0.3)\n",
    "\n",
    "# training model\n",
    "baseline_model = LinearRegression()\n",
    "\n",
    "# fitting the model\n",
    "baseline_model.fit(X_train, y_train)\n",
    "\n",
    "# making predictions\n",
    "predictions = baseline_model.predict(X_test)\n",
    "\n",
    "# model evaluation\n",
    "print('Model errors :')\n",
    "print('mean_squared_error : ', mean_squared_error(y_test, predictions))\n",
    "print('mean_absolute_error : ', mean_absolute_error(y_test, predictions))\n",
    "print('model R² value : ', sklearn.metrics.r2_score(y_test, predictions))"
   ]
  },
  {
   "cell_type": "code",
   "execution_count": 35,
   "id": "8dc48e2a",
   "metadata": {},
   "outputs": [
    {
     "name": "stdout",
     "output_type": "stream",
     "text": [
      "Model errors :\n",
      "mean_squared_error :  185987.8979819276\n",
      "mean_absolute_error :  333.4766520182286\n",
      "model R² value :  0.9344226218692135\n"
     ]
    }
   ],
   "source": [
    "# checking for significance\n",
    "X = Cluster2[['remaining_months', 'storey_avg', 'nearest_station_distance', 'distance_from_CBD', 'nearest_mall_distance']]\n",
    "y = Cluster2['adjusted_price_per_sqm']\n",
    "\n",
    "# train_test split\n",
    "X_train, X_test, y_train, y_test = train_test_split(X, y, test_size=0.3)\n",
    "\n",
    "# training model\n",
    "baseline_model = LinearRegression()\n",
    "\n",
    "# fitting the model\n",
    "baseline_model.fit(X_train, y_train)\n",
    "\n",
    "# making predictions\n",
    "predictions = baseline_model.predict(X_test)\n",
    "\n",
    "# model evaluation\n",
    "print('Model errors :')\n",
    "print('mean_squared_error : ', mean_squared_error(y_test, predictions))\n",
    "print('mean_absolute_error : ', mean_absolute_error(y_test, predictions))\n",
    "print('model R² value : ', sklearn.metrics.r2_score(y_test, predictions))"
   ]
  },
  {
   "cell_type": "code",
   "execution_count": 36,
   "id": "fcf20f6c",
   "metadata": {},
   "outputs": [
    {
     "name": "stdout",
     "output_type": "stream",
     "text": [
      "Model errors :\n",
      "mean_squared_error :  237475.82536231086\n",
      "mean_absolute_error :  372.6043550913554\n",
      "model R² value :  0.7802264111353444\n"
     ]
    }
   ],
   "source": [
    "# checking for significance\n",
    "X = Cluster3[['remaining_months', 'storey_avg', 'nearest_station_distance', 'distance_from_CBD', 'nearest_mall_distance']]\n",
    "y = Cluster3['adjusted_price_per_sqm']\n",
    "\n",
    "# train_test split\n",
    "X_train, X_test, y_train, y_test = train_test_split(X, y, test_size=0.3)\n",
    "\n",
    "# training model\n",
    "baseline_model = LinearRegression()\n",
    "\n",
    "# fitting the model\n",
    "baseline_model.fit(X_train, y_train)\n",
    "\n",
    "# making predictions\n",
    "predictions = baseline_model.predict(X_test)\n",
    "\n",
    "# model evaluation\n",
    "print('Model errors :')\n",
    "print('mean_squared_error : ', mean_squared_error(y_test, predictions))\n",
    "print('mean_absolute_error : ', mean_absolute_error(y_test, predictions))\n",
    "print('model R² value : ', sklearn.metrics.r2_score(y_test, predictions))"
   ]
  },
  {
   "cell_type": "code",
   "execution_count": 37,
   "id": "1fb0ec0a",
   "metadata": {},
   "outputs": [
    {
     "name": "stdout",
     "output_type": "stream",
     "text": [
      "Model errors :\n",
      "mean_squared_error :  198085.07080875008\n",
      "mean_absolute_error :  346.4703709759377\n",
      "model R² value :  0.8678672973182502\n"
     ]
    }
   ],
   "source": [
    "# checking for significance\n",
    "X = Cluster4[['remaining_months', 'storey_avg', 'nearest_station_distance', 'distance_from_CBD', 'nearest_mall_distance']]\n",
    "y = Cluster4['adjusted_price_per_sqm']\n",
    "\n",
    "# train_test split\n",
    "X_train, X_test, y_train, y_test = train_test_split(X, y, test_size=0.3)\n",
    "\n",
    "# training model\n",
    "baseline_model = LinearRegression()\n",
    "\n",
    "# fitting the model\n",
    "baseline_model.fit(X_train, y_train)\n",
    "\n",
    "# making predictions\n",
    "predictions = baseline_model.predict(X_test)\n",
    "\n",
    "# model evaluation\n",
    "print('Model errors :')\n",
    "print('mean_squared_error : ', mean_squared_error(y_test, predictions))\n",
    "print('mean_absolute_error : ', mean_absolute_error(y_test, predictions))\n",
    "print('model R² value : ', sklearn.metrics.r2_score(y_test, predictions))"
   ]
  },
  {
   "cell_type": "markdown",
   "id": "e887dd9f",
   "metadata": {},
   "source": [
    "#### Linear Regression across entire sector code 56 of each individual cluster has vastly improved results for 4 out of 5 clusters!"
   ]
  },
  {
   "cell_type": "markdown",
   "id": "1a37eda2",
   "metadata": {},
   "source": [
    "### Training using XGBoost Regressor"
   ]
  },
  {
   "cell_type": "code",
   "execution_count": 39,
   "id": "401f8ffe",
   "metadata": {},
   "outputs": [
    {
     "name": "stdout",
     "output_type": "stream",
     "text": [
      "mean_squared_error :  165041.89575430058\n",
      "mean_absolute_error :  308.2890594025533\n",
      "model R² value :  0.909995263333648\n"
     ]
    }
   ],
   "source": [
    "# checking for significance\n",
    "X = Clustering_HDB_sector_code_56_df[['remaining_months', 'storey_avg', 'nearest_station_distance', 'distance_from_CBD', 'nearest_mall_distance']]\n",
    "y = Clustering_HDB_sector_code_56_df['adjusted_price_per_sqm']\n",
    "\n",
    "# train_test split\n",
    "X_train, X_test, y_train, y_test = train_test_split(X, y, test_size=0.3)\n",
    "\n",
    "# defining model\n",
    "xgb_r = xg.XGBRegressor(max_depth=5, eta=0.5, subsample=0.8, colsample_bytree=0.8,learning_rate=0.1)\n",
    "\n",
    "# fit and predict\n",
    "xgb_r.fit(X_train,y_train)\n",
    "y_pred = xgb_r.predict(X_test)\n",
    "\n",
    "# testing accuracy\n",
    "# model evaluation\n",
    "print('mean_squared_error : ', mean_squared_error(y_test, y_pred))\n",
    "print('mean_absolute_error : ', mean_absolute_error(y_test, y_pred))\n",
    "print('model R² value : ', sklearn.metrics.r2_score(y_test, y_pred))"
   ]
  },
  {
   "cell_type": "markdown",
   "id": "b8e786c0",
   "metadata": {},
   "source": [
    "#### XGBoost Regressor produces much better results than Linear Regression"
   ]
  },
  {
   "cell_type": "code",
   "execution_count": 40,
   "id": "c7ad31fd",
   "metadata": {},
   "outputs": [
    {
     "name": "stdout",
     "output_type": "stream",
     "text": [
      "mean_squared_error :  203646.13556128985\n",
      "mean_absolute_error :  345.00813635317445\n",
      "model R² value :  0.9095968725535628\n"
     ]
    }
   ],
   "source": [
    "# checking for significance\n",
    "X = Cluster0[['remaining_months', 'storey_avg', 'nearest_station_distance', 'distance_from_CBD', 'nearest_mall_distance']]\n",
    "y = Cluster0['adjusted_price_per_sqm']\n",
    "\n",
    "# train_test split\n",
    "X_train, X_test, y_train, y_test = train_test_split(X, y, test_size=0.3)\n",
    "\n",
    "# defining model\n",
    "xgb_r = xg.XGBRegressor(max_depth=5, eta=0.5, subsample=0.8, colsample_bytree=0.8,learning_rate=0.1)\n",
    "\n",
    "# fit and predict\n",
    "xgb_r.fit(X_train,y_train)\n",
    "y_pred = xgb_r.predict(X_test)\n",
    "\n",
    "# testing accuracy\n",
    "# model evaluation\n",
    "print('mean_squared_error : ', mean_squared_error(y_test, y_pred))\n",
    "print('mean_absolute_error : ', mean_absolute_error(y_test, y_pred))\n",
    "print('model R² value : ', sklearn.metrics.r2_score(y_test, y_pred))"
   ]
  },
  {
   "cell_type": "code",
   "execution_count": 41,
   "id": "a0845c1d",
   "metadata": {},
   "outputs": [
    {
     "name": "stdout",
     "output_type": "stream",
     "text": [
      "mean_squared_error :  141737.16106943984\n",
      "mean_absolute_error :  293.1262725721621\n",
      "model R² value :  0.8009086139782926\n"
     ]
    }
   ],
   "source": [
    "# checking for significance\n",
    "X = Cluster1[['remaining_months', 'storey_avg', 'nearest_station_distance', 'distance_from_CBD', 'nearest_mall_distance']]\n",
    "y = Cluster1['adjusted_price_per_sqm']\n",
    "\n",
    "# train_test split\n",
    "X_train, X_test, y_train, y_test = train_test_split(X, y, test_size=0.3)\n",
    "\n",
    "# defining model\n",
    "xgb_r = xg.XGBRegressor(max_depth=5, eta=0.5, subsample=0.8, colsample_bytree=0.8,learning_rate=0.1)\n",
    "\n",
    "# fit and predict\n",
    "xgb_r.fit(X_train,y_train)\n",
    "y_pred = xgb_r.predict(X_test)\n",
    "\n",
    "# testing accuracy\n",
    "# model evaluation\n",
    "print('mean_squared_error : ', mean_squared_error(y_test, y_pred))\n",
    "print('mean_absolute_error : ', mean_absolute_error(y_test, y_pred))\n",
    "print('model R² value : ', sklearn.metrics.r2_score(y_test, y_pred))"
   ]
  },
  {
   "cell_type": "code",
   "execution_count": 42,
   "id": "82c4679d",
   "metadata": {},
   "outputs": [
    {
     "name": "stdout",
     "output_type": "stream",
     "text": [
      "mean_squared_error :  174466.90129277852\n",
      "mean_absolute_error :  316.1876311596868\n",
      "model R² value :  0.9354105974168794\n"
     ]
    }
   ],
   "source": [
    "# checking for significance\n",
    "X = Cluster2[['remaining_months', 'storey_avg', 'nearest_station_distance', 'distance_from_CBD', 'nearest_mall_distance']]\n",
    "y = Cluster2['adjusted_price_per_sqm']\n",
    "\n",
    "# train_test split\n",
    "X_train, X_test, y_train, y_test = train_test_split(X, y, test_size=0.3)\n",
    "\n",
    "# defining model\n",
    "xgb_r = xg.XGBRegressor(max_depth=5, eta=0.5, subsample=0.8, colsample_bytree=0.8,learning_rate=0.1)\n",
    "\n",
    "# fit and predict\n",
    "xgb_r.fit(X_train,y_train)\n",
    "y_pred = xgb_r.predict(X_test)\n",
    "\n",
    "# testing accuracy\n",
    "# model evaluation\n",
    "print('mean_squared_error : ', mean_squared_error(y_test, y_pred))\n",
    "print('mean_absolute_error : ', mean_absolute_error(y_test, y_pred))\n",
    "print('model R² value : ', sklearn.metrics.r2_score(y_test, y_pred))"
   ]
  },
  {
   "cell_type": "code",
   "execution_count": 43,
   "id": "9c26c524",
   "metadata": {},
   "outputs": [
    {
     "name": "stdout",
     "output_type": "stream",
     "text": [
      "mean_squared_error :  143928.05894686273\n",
      "mean_absolute_error :  287.4815092132056\n",
      "model R² value :  0.9024451884113861\n"
     ]
    }
   ],
   "source": [
    "# checking for significance\n",
    "X = Cluster3[['remaining_months', 'storey_avg', 'nearest_station_distance', 'distance_from_CBD', 'nearest_mall_distance']]\n",
    "y = Cluster3['adjusted_price_per_sqm']\n",
    "\n",
    "# train_test split\n",
    "X_train, X_test, y_train, y_test = train_test_split(X, y, test_size=0.3)\n",
    "\n",
    "# defining model\n",
    "xgb_r = xg.XGBRegressor(max_depth=5, eta=0.5, subsample=0.8, colsample_bytree=0.8,learning_rate=0.1)\n",
    "\n",
    "# fit and predict\n",
    "xgb_r.fit(X_train,y_train)\n",
    "y_pred = xgb_r.predict(X_test)\n",
    "\n",
    "# testing accuracy\n",
    "# model evaluation\n",
    "print('mean_squared_error : ', mean_squared_error(y_test, y_pred))\n",
    "print('mean_absolute_error : ', mean_absolute_error(y_test, y_pred))\n",
    "print('model R² value : ', sklearn.metrics.r2_score(y_test, y_pred))"
   ]
  },
  {
   "cell_type": "code",
   "execution_count": 44,
   "id": "11261760",
   "metadata": {},
   "outputs": [
    {
     "name": "stdout",
     "output_type": "stream",
     "text": [
      "mean_squared_error :  128537.96309183515\n",
      "mean_absolute_error :  282.51634568606045\n",
      "model R² value :  0.8833212444129164\n"
     ]
    }
   ],
   "source": [
    "# checking for significance\n",
    "X = Cluster4[['remaining_months', 'storey_avg', 'nearest_station_distance', 'distance_from_CBD', 'nearest_mall_distance']]\n",
    "y = Cluster4['adjusted_price_per_sqm']\n",
    "\n",
    "# train_test split\n",
    "X_train, X_test, y_train, y_test = train_test_split(X, y, test_size=0.3)\n",
    "\n",
    "# defining model\n",
    "xgb_r = xg.XGBRegressor(max_depth=5, eta=0.5, subsample=0.8, colsample_bytree=0.8,learning_rate=0.1)\n",
    "\n",
    "# fit and predict\n",
    "xgb_r.fit(X_train,y_train)\n",
    "y_pred = xgb_r.predict(X_test)\n",
    "\n",
    "# testing accuracy\n",
    "# model evaluation\n",
    "print('mean_squared_error : ', mean_squared_error(y_test, y_pred))\n",
    "print('mean_absolute_error : ', mean_absolute_error(y_test, y_pred))\n",
    "print('model R² value : ', sklearn.metrics.r2_score(y_test, y_pred))"
   ]
  },
  {
   "cell_type": "markdown",
   "id": "aa0c83e8",
   "metadata": {},
   "source": [
    "#### Similarly, splitting sector 56 produces slightly better results"
   ]
  },
  {
   "cell_type": "markdown",
   "id": "9829f204",
   "metadata": {},
   "source": [
    "### Training using Random Forest Regressor"
   ]
  },
  {
   "cell_type": "code",
   "execution_count": 51,
   "id": "bcc22445",
   "metadata": {},
   "outputs": [
    {
     "name": "stdout",
     "output_type": "stream",
     "text": [
      "mean_squared_error :  188200.0634350149\n",
      "mean_absolute_error :  329.599087947229\n",
      "model R² value :  0.9079262082641457\n"
     ]
    }
   ],
   "source": [
    "# checking for significance\n",
    "X = Clustering_HDB_sector_code_56_df[['remaining_months', 'storey_avg', 'nearest_station_distance', 'distance_from_CBD', 'nearest_mall_distance']]\n",
    "y = Clustering_HDB_sector_code_56_df['adjusted_price_per_sqm']\n",
    "\n",
    "# train_test split\n",
    "X_train, X_test, y_train, y_test = train_test_split(X, y, test_size=0.3)\n",
    "\n",
    "# model init\n",
    "rfr = RandomForestRegressor(max_depth=23)\n",
    "\n",
    "# fit and predict\n",
    "rfr.fit(X_train,y_train)\n",
    "y_pred = rfr.predict(X_test)\n",
    "\n",
    "# testing accuracy\n",
    "# model evaluation\n",
    "print('mean_squared_error : ', mean_squared_error(y_test, y_pred))\n",
    "print('mean_absolute_error : ', mean_absolute_error(y_test, y_pred))\n",
    "print('model R² value : ', sklearn.metrics.r2_score(y_test, y_pred))"
   ]
  },
  {
   "cell_type": "code",
   "execution_count": 46,
   "id": "690dfc72",
   "metadata": {},
   "outputs": [
    {
     "name": "stdout",
     "output_type": "stream",
     "text": [
      "mean_squared_error :  192947.40139211426\n",
      "mean_absolute_error :  326.2086428980727\n",
      "model R² value :  0.9116723540613596\n"
     ]
    }
   ],
   "source": [
    "# checking for significance\n",
    "X = Cluster0[['remaining_months', 'storey_avg', 'nearest_station_distance', 'distance_from_CBD', 'nearest_mall_distance']]\n",
    "y = Cluster0['adjusted_price_per_sqm']\n",
    "\n",
    "# train_test split\n",
    "X_train, X_test, y_train, y_test = train_test_split(X, y, test_size=0.3)\n",
    "\n",
    "# model init\n",
    "rfr = RandomForestRegressor(max_depth=23)\n",
    "\n",
    "# fit and predict\n",
    "rfr.fit(X_train,y_train)\n",
    "y_pred = rfr.predict(X_test)\n",
    "\n",
    "# testing accuracy\n",
    "# model evaluation\n",
    "print('mean_squared_error : ', mean_squared_error(y_test, y_pred))\n",
    "print('mean_absolute_error : ', mean_absolute_error(y_test, y_pred))\n",
    "print('model R² value : ', sklearn.metrics.r2_score(y_test, y_pred))"
   ]
  },
  {
   "cell_type": "code",
   "execution_count": 47,
   "id": "35c39429",
   "metadata": {},
   "outputs": [
    {
     "name": "stdout",
     "output_type": "stream",
     "text": [
      "mean_squared_error :  183320.73564368708\n",
      "mean_absolute_error :  327.598862570316\n",
      "model R² value :  0.6469074840463774\n"
     ]
    }
   ],
   "source": [
    "# checking for significance\n",
    "X = Cluster1[['remaining_months', 'storey_avg', 'nearest_station_distance', 'distance_from_CBD', 'nearest_mall_distance']]\n",
    "y = Cluster1['adjusted_price_per_sqm']\n",
    "\n",
    "# train_test split\n",
    "X_train, X_test, y_train, y_test = train_test_split(X, y, test_size=0.3)\n",
    "\n",
    "# model init\n",
    "rfr = RandomForestRegressor(max_depth=23)\n",
    "\n",
    "# fit and predict\n",
    "rfr.fit(X_train,y_train)\n",
    "y_pred = rfr.predict(X_test)\n",
    "\n",
    "# testing accuracy\n",
    "# model evaluation\n",
    "print('mean_squared_error : ', mean_squared_error(y_test, y_pred))\n",
    "print('mean_absolute_error : ', mean_absolute_error(y_test, y_pred))\n",
    "print('model R² value : ', sklearn.metrics.r2_score(y_test, y_pred))"
   ]
  },
  {
   "cell_type": "code",
   "execution_count": 48,
   "id": "dfbc25bf",
   "metadata": {},
   "outputs": [
    {
     "name": "stdout",
     "output_type": "stream",
     "text": [
      "mean_squared_error :  174633.4616044088\n",
      "mean_absolute_error :  318.37291973087474\n",
      "model R² value :  0.9337686596478572\n"
     ]
    }
   ],
   "source": [
    "# checking for significance\n",
    "X = Cluster2[['remaining_months', 'storey_avg', 'nearest_station_distance', 'distance_from_CBD', 'nearest_mall_distance']]\n",
    "y = Cluster2['adjusted_price_per_sqm']\n",
    "\n",
    "# train_test split\n",
    "X_train, X_test, y_train, y_test = train_test_split(X, y, test_size=0.3)\n",
    "\n",
    "# model init\n",
    "rfr = RandomForestRegressor(max_depth=23)\n",
    "\n",
    "# fit and predict\n",
    "rfr.fit(X_train,y_train)\n",
    "y_pred = rfr.predict(X_test)\n",
    "\n",
    "# testing accuracy\n",
    "# model evaluation\n",
    "print('mean_squared_error : ', mean_squared_error(y_test, y_pred))\n",
    "print('mean_absolute_error : ', mean_absolute_error(y_test, y_pred))\n",
    "print('model R² value : ', sklearn.metrics.r2_score(y_test, y_pred))"
   ]
  },
  {
   "cell_type": "code",
   "execution_count": 49,
   "id": "a77e627d",
   "metadata": {},
   "outputs": [
    {
     "name": "stdout",
     "output_type": "stream",
     "text": [
      "mean_squared_error :  145213.48485690265\n",
      "mean_absolute_error :  293.22467942696414\n",
      "model R² value :  0.916942076356694\n"
     ]
    }
   ],
   "source": [
    "# checking for significance\n",
    "X = Cluster3[['remaining_months', 'storey_avg', 'nearest_station_distance', 'distance_from_CBD', 'nearest_mall_distance']]\n",
    "y = Cluster3['adjusted_price_per_sqm']\n",
    "\n",
    "# train_test split\n",
    "X_train, X_test, y_train, y_test = train_test_split(X, y, test_size=0.3)\n",
    "\n",
    "# model init\n",
    "rfr = RandomForestRegressor(max_depth=23)\n",
    "\n",
    "# fit and predict\n",
    "rfr.fit(X_train,y_train)\n",
    "y_pred = rfr.predict(X_test)\n",
    "\n",
    "# testing accuracy\n",
    "# model evaluation\n",
    "print('mean_squared_error : ', mean_squared_error(y_test, y_pred))\n",
    "print('mean_absolute_error : ', mean_absolute_error(y_test, y_pred))\n",
    "print('model R² value : ', sklearn.metrics.r2_score(y_test, y_pred))"
   ]
  },
  {
   "cell_type": "code",
   "execution_count": 50,
   "id": "ae49b782",
   "metadata": {},
   "outputs": [
    {
     "name": "stdout",
     "output_type": "stream",
     "text": [
      "mean_squared_error :  154533.2344957356\n",
      "mean_absolute_error :  311.58466242909077\n",
      "model R² value :  0.8877871527312745\n"
     ]
    }
   ],
   "source": [
    "# checking for significance\n",
    "X = Cluster4[['remaining_months', 'storey_avg', 'nearest_station_distance', 'distance_from_CBD', 'nearest_mall_distance']]\n",
    "y = Cluster4['adjusted_price_per_sqm']\n",
    "\n",
    "# train_test split\n",
    "X_train, X_test, y_train, y_test = train_test_split(X, y, test_size=0.3)\n",
    "\n",
    "# model init\n",
    "rfr = RandomForestRegressor(max_depth=23)\n",
    "\n",
    "# fit and predict\n",
    "rfr.fit(X_train,y_train)\n",
    "y_pred = rfr.predict(X_test)\n",
    "\n",
    "# testing accuracy\n",
    "# model evaluation\n",
    "print('mean_squared_error : ', mean_squared_error(y_test, y_pred))\n",
    "print('mean_absolute_error : ', mean_absolute_error(y_test, y_pred))\n",
    "print('model R² value : ', sklearn.metrics.r2_score(y_test, y_pred))"
   ]
  },
  {
   "cell_type": "markdown",
   "id": "9d35df7e",
   "metadata": {},
   "source": [
    "### Training using KNeighbours"
   ]
  },
  {
   "cell_type": "code",
   "execution_count": 54,
   "id": "0849828e",
   "metadata": {},
   "outputs": [
    {
     "name": "stdout",
     "output_type": "stream",
     "text": [
      "mean_squared_error :  299527.20311222016\n",
      "mean_absolute_error :  424.58015672672013\n",
      "model R² value :  0.8367759952158578\n"
     ]
    }
   ],
   "source": [
    "# checking for significance\n",
    "X = Clustering_HDB_sector_code_56_df[['remaining_months', 'storey_avg', 'nearest_station_distance', 'distance_from_CBD', 'nearest_mall_distance']]\n",
    "y = Clustering_HDB_sector_code_56_df['adjusted_price_per_sqm']\n",
    "\n",
    "# train_test split\n",
    "X_train, X_test, y_train, y_test = train_test_split(X, y, test_size=0.3)\n",
    "\n",
    "# model init\n",
    "neigh = KNeighborsRegressor(n_neighbors=3)\n",
    "\n",
    "# fit and predict\n",
    "neigh.fit(X_train,y_train)\n",
    "y_pred = neigh.predict(X_test)\n",
    "\n",
    "# testing accuracy\n",
    "# model evaluation\n",
    "print('mean_squared_error : ', mean_squared_error(y_test, y_pred))\n",
    "print('mean_absolute_error : ', mean_absolute_error(y_test, y_pred))\n",
    "print('model R² value : ', sklearn.metrics.r2_score(y_test, y_pred))"
   ]
  },
  {
   "cell_type": "code",
   "execution_count": 55,
   "id": "b4bf22a8",
   "metadata": {},
   "outputs": [
    {
     "name": "stdout",
     "output_type": "stream",
     "text": [
      "mean_squared_error :  386045.18483667594\n",
      "mean_absolute_error :  473.1423231074284\n",
      "model R² value :  0.8227514197507841\n"
     ]
    }
   ],
   "source": [
    "# checking for significance\n",
    "X = Cluster0[['remaining_months', 'storey_avg', 'nearest_station_distance', 'distance_from_CBD', 'nearest_mall_distance']]\n",
    "y = Cluster0['adjusted_price_per_sqm']\n",
    "# train_test split\n",
    "X_train, X_test, y_train, y_test = train_test_split(X, y, test_size=0.3)\n",
    "\n",
    "# model init\n",
    "neigh = KNeighborsRegressor(n_neighbors=3)\n",
    "\n",
    "# fit and predict\n",
    "neigh.fit(X_train,y_train)\n",
    "y_pred = neigh.predict(X_test)\n",
    "\n",
    "# testing accuracy\n",
    "# model evaluation\n",
    "print('mean_squared_error : ', mean_squared_error(y_test, y_pred))\n",
    "print('mean_absolute_error : ', mean_absolute_error(y_test, y_pred))\n",
    "print('model R² value : ', sklearn.metrics.r2_score(y_test, y_pred))"
   ]
  },
  {
   "cell_type": "code",
   "execution_count": 56,
   "id": "81b50ffb",
   "metadata": {},
   "outputs": [
    {
     "name": "stdout",
     "output_type": "stream",
     "text": [
      "mean_squared_error :  236315.9032326559\n",
      "mean_absolute_error :  369.2308746080097\n",
      "model R² value :  0.6434605235482582\n"
     ]
    }
   ],
   "source": [
    "# checking for significance\n",
    "X = Cluster1[['remaining_months', 'storey_avg', 'nearest_station_distance', 'distance_from_CBD', 'nearest_mall_distance']]\n",
    "y = Cluster1['adjusted_price_per_sqm']\n",
    "# train_test split\n",
    "X_train, X_test, y_train, y_test = train_test_split(X, y, test_size=0.3)\n",
    "\n",
    "# model init\n",
    "neigh = KNeighborsRegressor(n_neighbors=3)\n",
    "\n",
    "# fit and predict\n",
    "neigh.fit(X_train,y_train)\n",
    "y_pred = neigh.predict(X_test)\n",
    "\n",
    "# testing accuracy\n",
    "# model evaluation\n",
    "print('mean_squared_error : ', mean_squared_error(y_test, y_pred))\n",
    "print('mean_absolute_error : ', mean_absolute_error(y_test, y_pred))\n",
    "print('model R² value : ', sklearn.metrics.r2_score(y_test, y_pred))"
   ]
  },
  {
   "cell_type": "code",
   "execution_count": 57,
   "id": "063bc286",
   "metadata": {},
   "outputs": [
    {
     "name": "stdout",
     "output_type": "stream",
     "text": [
      "mean_squared_error :  269963.37596966577\n",
      "mean_absolute_error :  403.7820439008112\n",
      "model R² value :  0.8951357011063006\n"
     ]
    }
   ],
   "source": [
    "# checking for significance\n",
    "X = Cluster2[['remaining_months', 'storey_avg', 'nearest_station_distance', 'distance_from_CBD', 'nearest_mall_distance']]\n",
    "y = Cluster2['adjusted_price_per_sqm']\n",
    "# train_test split\n",
    "X_train, X_test, y_train, y_test = train_test_split(X, y, test_size=0.3)\n",
    "\n",
    "# model init\n",
    "neigh = KNeighborsRegressor(n_neighbors=3)\n",
    "\n",
    "# fit and predict\n",
    "neigh.fit(X_train,y_train)\n",
    "y_pred = neigh.predict(X_test)\n",
    "\n",
    "# testing accuracy\n",
    "# model evaluation\n",
    "print('mean_squared_error : ', mean_squared_error(y_test, y_pred))\n",
    "print('mean_absolute_error : ', mean_absolute_error(y_test, y_pred))\n",
    "print('model R² value : ', sklearn.metrics.r2_score(y_test, y_pred))"
   ]
  },
  {
   "cell_type": "code",
   "execution_count": 58,
   "id": "057c99fc",
   "metadata": {},
   "outputs": [
    {
     "name": "stdout",
     "output_type": "stream",
     "text": [
      "mean_squared_error :  221497.76335107835\n",
      "mean_absolute_error :  358.2301722311132\n",
      "model R² value :  0.8543587849731326\n"
     ]
    }
   ],
   "source": [
    "# checking for significance\n",
    "X = Cluster3[['remaining_months', 'storey_avg', 'nearest_station_distance', 'distance_from_CBD', 'nearest_mall_distance']]\n",
    "y = Cluster3['adjusted_price_per_sqm']\n",
    "# train_test split\n",
    "X_train, X_test, y_train, y_test = train_test_split(X, y, test_size=0.3)\n",
    "\n",
    "# model init\n",
    "neigh = KNeighborsRegressor(n_neighbors=3)\n",
    "\n",
    "# fit and predict\n",
    "neigh.fit(X_train,y_train)\n",
    "y_pred = neigh.predict(X_test)\n",
    "\n",
    "# testing accuracy\n",
    "# model evaluation\n",
    "print('mean_squared_error : ', mean_squared_error(y_test, y_pred))\n",
    "print('mean_absolute_error : ', mean_absolute_error(y_test, y_pred))\n",
    "print('model R² value : ', sklearn.metrics.r2_score(y_test, y_pred))"
   ]
  },
  {
   "cell_type": "code",
   "execution_count": 59,
   "id": "7b4759ab",
   "metadata": {},
   "outputs": [
    {
     "name": "stdout",
     "output_type": "stream",
     "text": [
      "mean_squared_error :  243396.20561177382\n",
      "mean_absolute_error :  377.21464219724584\n",
      "model R² value :  0.8518450475756293\n"
     ]
    }
   ],
   "source": [
    "# checking for significance\n",
    "X = Cluster4[['remaining_months', 'storey_avg', 'nearest_station_distance', 'distance_from_CBD', 'nearest_mall_distance']]\n",
    "y = Cluster4['adjusted_price_per_sqm']\n",
    "# train_test split\n",
    "X_train, X_test, y_train, y_test = train_test_split(X, y, test_size=0.3)\n",
    "\n",
    "# model init\n",
    "neigh = KNeighborsRegressor(n_neighbors=3)\n",
    "\n",
    "# fit and predict\n",
    "neigh.fit(X_train,y_train)\n",
    "y_pred = neigh.predict(X_test)\n",
    "\n",
    "# testing accuracy\n",
    "# model evaluation\n",
    "print('mean_squared_error : ', mean_squared_error(y_test, y_pred))\n",
    "print('mean_absolute_error : ', mean_absolute_error(y_test, y_pred))\n",
    "print('model R² value : ', sklearn.metrics.r2_score(y_test, y_pred))"
   ]
  },
  {
   "cell_type": "markdown",
   "id": "f4bb6c72",
   "metadata": {},
   "source": [
    "#### After comparing the different models, XGBoost produces the best results. We'll do cross-validation to ensure our model isn't overfitted"
   ]
  },
  {
   "cell_type": "code",
   "execution_count": null,
   "id": "214a6ef1",
   "metadata": {},
   "outputs": [],
   "source": [
    "from sklearn.model_selection import KFold\n",
    "\n",
    "# Load the data\n",
    "data = pd.read_csv('data.csv')\n",
    "\n",
    "# Split the data into k folds\n",
    "kf = KFold(n_splits=5, shuffle=True)\n",
    "\n",
    "# Create a linear regression model\n",
    "model = LinearRegression()\n",
    "\n",
    "# Perform cross-validation\n",
    "errors = []\n",
    "for train_index, test_index in kf.split(data):\n",
    "    X_train, X_test = data.iloc[train_index], data.iloc[test_index]\n",
    "    y_train, y_test = data['target'].iloc[train_index], data['target'].iloc[test_index]\n",
    "\n",
    "    # Fit the model on the training data\n",
    "    model.fit(X_train, y_train)\n",
    "\n",
    "    # Evaluate the model on the test data\n",
    "    error = np.mean((model.predict(X_test) - y_test)**2)\n",
    "    errors.append(error)\n",
    "\n",
    "# Print the average error\n",
    "print('Average error:', np.mean(errors))"
   ]
  }
 ],
 "metadata": {
  "kernelspec": {
   "display_name": "Python 3 (ipykernel)",
   "language": "python",
   "name": "python3"
  },
  "language_info": {
   "codemirror_mode": {
    "name": "ipython",
    "version": 3
   },
   "file_extension": ".py",
   "mimetype": "text/x-python",
   "name": "python",
   "nbconvert_exporter": "python",
   "pygments_lexer": "ipython3",
   "version": "3.9.12"
  }
 },
 "nbformat": 4,
 "nbformat_minor": 5
}
